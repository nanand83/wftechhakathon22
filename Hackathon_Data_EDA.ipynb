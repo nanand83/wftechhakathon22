{
 "cells": [
  {
   "cell_type": "code",
   "execution_count": 3,
   "id": "c3368958",
   "metadata": {},
   "outputs": [],
   "source": [
    "import pandas as pd"
   ]
  },
  {
   "cell_type": "code",
   "execution_count": 6,
   "id": "afaa2e91",
   "metadata": {},
   "outputs": [],
   "source": [
    "df = pd.read_excel('data/Original_Data.xlsx')"
   ]
  },
  {
   "cell_type": "code",
   "execution_count": 7,
   "id": "0e7f5089",
   "metadata": {},
   "outputs": [
    {
     "name": "stdout",
     "output_type": "stream",
     "text": [
      "<class 'pandas.core.frame.DataFrame'>\n",
      "RangeIndex: 59776 entries, 0 to 59775\n",
      "Data columns (total 12 columns):\n",
      " #   Column             Non-Null Count  Dtype  \n",
      "---  ------             --------------  -----  \n",
      " 0   dunsNum            59776 non-null  int64  \n",
      " 1   dunsName           59776 non-null  object \n",
      " 2   county             59776 non-null  object \n",
      " 3   streetAddress      59734 non-null  object \n",
      " 4   city               59776 non-null  object \n",
      " 5   STATE              59776 non-null  object \n",
      " 6   zip                59776 non-null  int64  \n",
      " 7   phone              57162 non-null  float64\n",
      " 8   executiveContact1  59246 non-null  object \n",
      " 9   executiveContact2  15152 non-null  object \n",
      " 10  isWomanOwned       5 non-null      float64\n",
      " 11  MinorityOwnedDesc  2 non-null      object \n",
      "dtypes: float64(2), int64(2), object(8)\n",
      "memory usage: 5.5+ MB\n"
     ]
    }
   ],
   "source": [
    "df.info()"
   ]
  },
  {
   "cell_type": "code",
   "execution_count": 13,
   "id": "b1a92b95",
   "metadata": {},
   "outputs": [
    {
     "data": {
      "text/plain": [
       "CA    10048\n",
       "TX     6259\n",
       "FL     4472\n",
       "NY     2892\n",
       "VA     2311\n",
       "IL     2034\n",
       "NJ     1994\n",
       "GA     1976\n",
       "NC     1846\n",
       "PA     1735\n",
       "MD     1687\n",
       "MI     1466\n",
       "CO     1454\n",
       "OH     1424\n",
       "AZ     1419\n",
       "WA     1208\n",
       "MN     1068\n",
       "MA      949\n",
       "TN      795\n",
       "AL      788\n",
       "MO      764\n",
       "AK      761\n",
       "IN      735\n",
       "OR      713\n",
       "WI      692\n",
       "SC      675\n",
       "LA      638\n",
       "NM      596\n",
       "OK      586\n",
       "CT      580\n",
       "NV      578\n",
       "UT      437\n",
       "KY      377\n",
       "IA      364\n",
       "KS      340\n",
       "DC      318\n",
       "HI      305\n",
       "MS      292\n",
       "ID      290\n",
       "NE      272\n",
       "AR      246\n",
       "MT      197\n",
       "NH      176\n",
       "DE      164\n",
       "SD      149\n",
       "RI      146\n",
       "WV      129\n",
       "ME      123\n",
       "ND      119\n",
       "WY      107\n",
       "VT       68\n",
       "PR       14\n",
       "Name: STATE, dtype: int64"
      ]
     },
     "execution_count": 13,
     "metadata": {},
     "output_type": "execute_result"
    }
   ],
   "source": [
    "df['STATE'].value_counts()"
   ]
  },
  {
   "cell_type": "code",
   "execution_count": 19,
   "id": "e5b098db",
   "metadata": {},
   "outputs": [
    {
     "data": {
      "text/html": [
       "<div>\n",
       "<style scoped>\n",
       "    .dataframe tbody tr th:only-of-type {\n",
       "        vertical-align: middle;\n",
       "    }\n",
       "\n",
       "    .dataframe tbody tr th {\n",
       "        vertical-align: top;\n",
       "    }\n",
       "\n",
       "    .dataframe thead th {\n",
       "        text-align: right;\n",
       "    }\n",
       "</style>\n",
       "<table border=\"1\" class=\"dataframe\">\n",
       "  <thead>\n",
       "    <tr style=\"text-align: right;\">\n",
       "      <th></th>\n",
       "      <th>dunsNum</th>\n",
       "      <th>dunsName</th>\n",
       "      <th>county</th>\n",
       "      <th>streetAddress</th>\n",
       "      <th>city</th>\n",
       "      <th>STATE</th>\n",
       "      <th>zip</th>\n",
       "      <th>phone</th>\n",
       "      <th>executiveContact1</th>\n",
       "      <th>executiveContact2</th>\n",
       "      <th>isWomanOwned</th>\n",
       "      <th>MinorityOwnedDesc</th>\n",
       "    </tr>\n",
       "  </thead>\n",
       "  <tbody>\n",
       "  </tbody>\n",
       "</table>\n",
       "</div>"
      ],
      "text/plain": [
       "Empty DataFrame\n",
       "Columns: [dunsNum, dunsName, county, streetAddress, city, STATE, zip, phone, executiveContact1, executiveContact2, isWomanOwned, MinorityOwnedDesc]\n",
       "Index: []"
      ]
     },
     "execution_count": 19,
     "metadata": {},
     "output_type": "execute_result"
    }
   ],
   "source": [
    "df[df['city'] == 'Columbia']"
   ]
  },
  {
   "cell_type": "code",
   "execution_count": null,
   "id": "cf777f71",
   "metadata": {},
   "outputs": [],
   "source": []
  }
 ],
 "metadata": {
  "kernelspec": {
   "display_name": "Python 3 (ipykernel)",
   "language": "python",
   "name": "python3"
  },
  "language_info": {
   "codemirror_mode": {
    "name": "ipython",
    "version": 3
   },
   "file_extension": ".py",
   "mimetype": "text/x-python",
   "name": "python",
   "nbconvert_exporter": "python",
   "pygments_lexer": "ipython3",
   "version": "3.9.2"
  }
 },
 "nbformat": 4,
 "nbformat_minor": 5
}
